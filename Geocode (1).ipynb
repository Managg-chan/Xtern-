{
 "cells": [
  {
   "cell_type": "code",
   "execution_count": null,
   "metadata": {},
   "outputs": [],
   "source": [
    "from googlemaps import convert\n",
    "# pip install geopandas\n",
    "# pip install geopy\n",
    "\n",
    "def generate_long_lat(client, address=None, components=None, bounds=None, region=None,\n",
    "            language=None):\n",
    "    if address:\n",
    "        params[\"address\"] = address\n",
    "    if components:\n",
    "        params[\"components\"] = convert.components(components)\n",
    "\n",
    "    if bounds:\n",
    "        params[\"bounds\"] = convert.bounds(bounds)\n",
    "\n",
    "    if region:\n",
    "        params[\"region\"] = region\n",
    "\n",
    "    if language:\n",
    "        params[\"language\"] = language\n",
    "\n",
    "    return client._request(\"/maps/api/geocode/json\", params).get(\"results\", [])\n",
    "\n"
   ]
  },
  {
   "cell_type": "code",
   "execution_count": null,
   "metadata": {},
   "outputs": [],
   "source": [
    "import git+git://github.com/geopandas/geopandas.git\n",
    "import install numpy as np\n",
    "import install pandas as pd\n",
    "import install shapely\n",
    "import install fiona \n",
    "import install pyproj \n",
    "import install geopy\n",
    "\n",
    "from geopy.geocoders import Nominatim\n",
    "def generate_location(address):\n",
    "    geolocator = Nominatim(user_agent=\"my_request\")\n",
    "    location = geolocator.geocode(address)\n",
    "    return location.latitude, location.longitude\n"
   ]
  },
  {
   "cell_type": "code",
   "execution_count": null,
   "metadata": {},
   "outputs": [],
   "source": []
  }
 ],
 "metadata": {
  "kernelspec": {
   "display_name": "Python 3",
   "language": "python",
   "name": "python3"
  },
  "language_info": {
   "codemirror_mode": {
    "name": "ipython",
    "version": 3
   },
   "file_extension": ".py",
   "mimetype": "text/x-python",
   "name": "python",
   "nbconvert_exporter": "python",
   "pygments_lexer": "ipython3",
   "version": "3.7.4"
  }
 },
 "nbformat": 4,
 "nbformat_minor": 5
}
